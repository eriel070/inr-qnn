{
 "cells": [
  {
   "cell_type": "code",
   "execution_count": null,
   "id": "166b270f-2e14-40ee-9fb3-e24ac49505db",
   "metadata": {},
   "outputs": [],
   "source": [
    "#!pip install -r ../requirements/requirements.txt\n",
    "#!pip install -r ../requirements/requirements_mini.txt"
   ]
  },
  {
   "cell_type": "code",
   "execution_count": 4,
   "id": "1ba44dd6-7169-470f-878e-02562e314806",
   "metadata": {},
   "outputs": [],
   "source": [
    "import os\n",
    "import torch\n",
    "import torch.nn as nn\n",
    "import numpy as np\n",
    "import matplotlib.pyplot as plt\n",
    "import IPython.display as ipd\n",
    "from tqdm.notebook import tqdm\n",
    "from torchsummary import summary\n",
    "import soundfile as sf\n",
    "import librosa\n",
    "from torch.utils.data import Dataset, DataLoader"
   ]
  },
  {
   "cell_type": "code",
   "execution_count": null,
   "id": "bfd10696-7fd1-4891-b99b-22ffd7d19dba",
   "metadata": {},
   "outputs": [],
   "source": [
    "seconds = 5\n",
    "targetrate = 8820\n",
    "data, samplerate = sf.read(\"../data/raw/2240.wav\", dtype='float32')\n",
    "data = data[3*samplerate:(3+seconds)*samplerate]\n",
    "data = librosa.resample(data, orig_sr=samplerate, target_sr=targetrate)\n",
    "ipd.Audio(data, rate=targetrate)"
   ]
  },
  {
   "cell_type": "code",
   "execution_count": 4,
   "id": "35e75ac8-928d-466e-b7f8-c1f6153c18b5",
   "metadata": {},
   "outputs": [],
   "source": [
    "# Prepare data\n",
    "\n",
    "data_path1 = \"../data/raw/1811.wav\"\n",
    "data_path2 = \"../data/raw/2202.wav\"\n",
    "data_path3 = \"../data/raw/2240.wav\"\n",
    "\n",
    "seconds = 5\n",
    "lowrate = 8820\n",
    "\n",
    "data, samplerate = sf.read(data_path1, dtype='float32')\n",
    "data = data[4*samplerate:(4+seconds)*samplerate]\n",
    "sf.write('../data/original/clarinet_by_mozart.wav', data, samplerate)\n",
    "data = librosa.resample(data, orig_sr=samplerate, target_sr=lowrate)\n",
    "sf.write('../data/downsampled/clarinet_by_mozart.wav', data, lowrate)\n",
    "data, samplerate = sf.read(data_path2, dtype='float32')\n",
    "data = data[3*samplerate:(3+seconds)*samplerate]\n",
    "sf.write('../data/original/flute_by_bach.wav', data, samplerate)\n",
    "data = librosa.resample(data, orig_sr=samplerate, target_sr=lowrate)\n",
    "sf.write('../data/downsampled/flute_by_bach.wav', data, lowrate)\n",
    "data, samplerate = sf.read(data_path3, dtype='float32')\n",
    "data = data[3*samplerate:(3+seconds)*samplerate]\n",
    "sf.write('../data/original/piano_by_bach.wav', data, samplerate)\n",
    "data = librosa.resample(data, orig_sr=samplerate, target_sr=lowrate)\n",
    "sf.write('../data/downsampled/piano_by_bach.wav', data, lowrate)"
   ]
  },
  {
   "cell_type": "code",
   "execution_count": 5,
   "id": "344bc2eb-bfbf-455e-9b6f-7053860d6195",
   "metadata": {},
   "outputs": [],
   "source": [
    "mirate = 105\n",
    "\n",
    "data, samplerate = sf.read(data_path1, dtype='float32')\n",
    "data = data[4*samplerate:(4+seconds)*samplerate]\n",
    "data = librosa.resample(data, orig_sr=samplerate, target_sr=mirate)\n",
    "sf.write('../data/inaudible/clarinet_by_mozart.wav', data, mirate)\n",
    "data, samplerate = sf.read(data_path2, dtype='float32')\n",
    "data = data[3*samplerate:(3+seconds)*samplerate]\n",
    "data = librosa.resample(data, orig_sr=samplerate, target_sr=mirate)\n",
    "sf.write('../data/inaudible/flute_by_bach.wav', data, mirate)\n",
    "data, samplerate = sf.read(data_path3, dtype='float32')\n",
    "data = data[3*samplerate:(3+seconds)*samplerate]\n",
    "data = librosa.resample(data, orig_sr=samplerate, target_sr=mirate)\n",
    "sf.write('../data/inaudible/piano_by_bach.wav', data, mirate)"
   ]
  },
  {
   "cell_type": "code",
   "execution_count": 4,
   "id": "1f3e5a11-9cb6-4530-812f-f3d7ee4bb3eb",
   "metadata": {},
   "outputs": [
    {
     "name": "stdout",
     "output_type": "stream",
     "text": [
      "Using device: cpu\n"
     ]
    }
   ],
   "source": [
    "device = torch.device('cuda' if torch.cuda.is_available() else 'cpu')\n",
    "print(f\"Using device: {device}\")"
   ]
  },
  {
   "cell_type": "code",
   "execution_count": 5,
   "id": "88473477-e47f-4731-86d4-831f0b41856f",
   "metadata": {},
   "outputs": [
    {
     "data": {
      "text/plain": [
       "False"
      ]
     },
     "execution_count": 5,
     "metadata": {},
     "output_type": "execute_result"
    }
   ],
   "source": [
    "torch.cuda.is_available()"
   ]
  }
 ],
 "metadata": {
  "kernelspec": {
   "display_name": "Python 3 (ipykernel)",
   "language": "python",
   "name": "python3"
  },
  "language_info": {
   "codemirror_mode": {
    "name": "ipython",
    "version": 3
   },
   "file_extension": ".py",
   "mimetype": "text/x-python",
   "name": "python",
   "nbconvert_exporter": "python",
   "pygments_lexer": "ipython3",
   "version": "3.10.12"
  }
 },
 "nbformat": 4,
 "nbformat_minor": 5
}
